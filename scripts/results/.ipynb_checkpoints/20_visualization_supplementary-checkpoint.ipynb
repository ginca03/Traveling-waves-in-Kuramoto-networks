{
 "cells": [
  {
   "cell_type": "markdown",
   "id": "2731b307",
   "metadata": {},
   "source": [
    "# Supplementary - The Human Connectome Hosts Connectivity In-strength Gradients"
   ]
  },
  {
   "cell_type": "markdown",
   "id": "fe7b6c48-0010-4b9e-a7f2-69f0039ad1e7",
   "metadata": {},
   "source": [
    "# Random parcellation 500 regions\n",
    "\n",
    "This parcellation is based on [Aurina Arnatkeviciute et al. (2021)](https://pure.mpg.de/rest/items/item_3342685/component/file_3342686/content). We retrieved the data from https://zenodo.org/record/4733297#.Y3YzwezMK3I"
   ]
  },
  {
   "cell_type": "code",
   "execution_count": 12,
   "id": "26d6b6b8-938a-4e67-b01b-6dff11e5141c",
   "metadata": {},
   "outputs": [],
   "source": [
    "import os\n",
    "import mat73\n",
    "import numpy as np\n",
    "import nibabel as nb\n",
    "\n",
    "sys.path.append('../../modules/')\n",
    "from visualization import *\n",
    "\n",
    "from scipy.io import loadmat\n",
    "from palettable.scientific.sequential import Davos_20\n",
    "\n",
    "cmap_strength = Davos_20.mpl_colormap\n",
    "\n",
    "dpi = 300\n",
    "page_width = 2244  # pxl at 300 dpi"
   ]
  },
  {
   "cell_type": "code",
   "execution_count": 13,
   "id": "664f80cf-9cf3-41fa-a7db-dddb23b13dfb",
   "metadata": {},
   "outputs": [],
   "source": [
    "# specify paths\n",
    "data_path = \"/Users/dk/Documents/Charite/PhD/travelingwaves_code/data/connectomes\"\n",
    "regions_path = \"/Users/dk/Documents/Charite/PhD/travelingwaves_code/data/connectomes/Arnatkeviciute/modules\"\n",
    "figure_path = \"/Users/dk/Documents/Charite/PhD/travelingwaves_code/data/20_results\""
   ]
  },
  {
   "cell_type": "code",
   "execution_count": 14,
   "id": "14696607-0632-4596-8ab3-ed30f900a341",
   "metadata": {},
   "outputs": [],
   "source": [
    "# get inflated fsaverage for background\n",
    "v_inflated_lh, f_inflated_lh = nb.freesurfer.io.read_geometry(\n",
    "    data_path + '/Schaefer2018_HCP_S900/hcp_parcellation/fsaverage5/surf/lh.inflated')\n",
    "v_inflated_rh, f_inflated_rh = nb.freesurfer.io.read_geometry(\n",
    "    data_path + '/Schaefer2018_HCP_S900/hcp_parcellation/fsaverage5/surf/rh.inflated')\n",
    "\n",
    "v_inflated_lh *= 1e-3\n",
    "v_inflated_rh *= 1e-3\n",
    "\n",
    "# combine left and right hemispheres\n",
    "v_inflated_lh[:,0] = v_inflated_lh[:,0] - (v_inflated_lh[:,0].max() - v_inflated_lh[:,0].min())\n",
    "\n",
    "v_inflated = np.concatenate([v_inflated_lh, v_inflated_rh])\n",
    "f_inflated = np.concatenate([f_inflated_lh, f_inflated_rh+len(v_inflated_lh)])"
   ]
  },
  {
   "cell_type": "code",
   "execution_count": 15,
   "id": "9363de49-fc6e-4994-82f0-fea240f6b9d5",
   "metadata": {},
   "outputs": [],
   "source": [
    "# get fsaverage positions for random parcellation\n",
    "vertex_labels_lh = np.genfromtxt(os.path.join(regions_path, 'lh.random500.txt'))\n",
    "vertex_labels_rh = np.genfromtxt(os.path.join(regions_path, 'rh.random500.txt'))\n",
    "\n",
    "surf_dict = loadmat(os.path.join(regions_path, 'inflated_vertices.mat'))\n",
    "verts_lh = surf_dict['lh_inflated_verts']\n",
    "verts_rh = surf_dict['rh_inflated_verts']\n",
    "\n",
    "verts_lh *= 1e-3\n",
    "verts_rh *= 1e-3\n",
    "\n",
    "verts_lh[:,0] = verts_lh[:,0] - (verts_lh[:,0].max() - verts_lh[:,0].min())\n",
    "\n",
    "v_lh = np.array([np.mean(verts_lh[np.where(vertex_labels_lh==vl)[0],:], axis=0) for vl in np.unique(vertex_labels_lh)[1:]])  # regions begin at index 1\n",
    "v_rh = np.array([np.mean(verts_rh[np.where(vertex_labels_rh==vl)[0],:], axis=0) for vl in np.unique(vertex_labels_rh)[1:]])  # regions begin at index 1\n",
    "\n",
    "v = np.concatenate([v_lh, v_rh])\n",
    "\n",
    "#np.save(data_path + '/Arnatkeviciute/' + 'positions.npy', v)"
   ]
  },
  {
   "cell_type": "code",
   "execution_count": 16,
   "id": "890d0ab3-dd3c-49bb-91ff-5203e33a0161",
   "metadata": {},
   "outputs": [],
   "source": [
    "# load data\n",
    "data_dict = mat73.loadmat(os.path.join(data_path, 'Arnatkeviciute/HCP_connectomes/HCP_random500ANDfslatlas20_iFOD2_NOSIFT_standard.mat'))\n",
    "\n",
    "# extract weights\n",
    "subjects = data_dict['SUBS']\n",
    "weights_nsc = data_dict['ADJS']\n",
    "\n",
    "# remove subcortical regions (indices from personal communication with Aurina Arnatkeviciute 11/17/2022)\n",
    "for i in range(len(subjects)):\n",
    "    weights_nsc[i] = np.delete(weights_nsc[i], np.s_[510:520], 0)\n",
    "    weights_nsc[i] = np.delete(weights_nsc[i], np.s_[250:260], 0)\n",
    "    weights_nsc[i] = np.delete(weights_nsc[i], np.s_[510:520], 1)\n",
    "    weights_nsc[i] = np.delete(weights_nsc[i], np.s_[250:260], 1)\n",
    "\n",
    "# compute average weights\n",
    "avg_weights = np.mean(weights_nsc, axis=0)\n",
    "number_of_regions = 500"
   ]
  },
  {
   "cell_type": "code",
   "execution_count": 17,
   "id": "592e30a8-0f6b-46c2-b8de-4d0f7aa77b78",
   "metadata": {},
   "outputs": [],
   "source": [
    "# compute instrength\n",
    "instrength = np.sum(avg_weights, axis=0)\n",
    "\n",
    "clim = np.percentile(instrength, [5,95])\n",
    "\n",
    "#np.save(data_path + '/Arnatkeviciute/' + 'random500_instrength.npy', instrength)"
   ]
  },
  {
   "cell_type": "code",
   "execution_count": 18,
   "id": "5e9cec50-e49b-4bee-964a-fce8f37a3ca8",
   "metadata": {},
   "outputs": [
    {
     "name": "stderr",
     "output_type": "stream",
     "text": [
      "WARNING:root:pyvista.PolyData.fill_holes is known to segfault. Use at your own risk\n",
      "WARNING:root:pyvista.PolyData.fill_holes is known to segfault. Use at your own risk\n"
     ]
    },
    {
     "data": {
      "application/vnd.jupyter.widget-view+json": {
       "model_id": "9e177139ba494f2583ead7650c4f52b7",
       "version_major": 2,
       "version_minor": 0
      },
      "text/plain": [
       "ViewInteractiveWidget(height=912, layout=Layout(height='auto', width='100%'), width=2256)"
      ]
     },
     "metadata": {},
     "output_type": "display_data"
    }
   ],
   "source": [
    "# Plot Instrength distribution\n",
    "# ----------------------------\n",
    "plot_brain_data(v_inflated, f_inflated, instrength, cmap=cmap_strength, clim=clim, data_points=v, glyph_scaling=0.015)"
   ]
  },
  {
   "cell_type": "markdown",
   "id": "bdc2b4f2",
   "metadata": {},
   "source": [
    "# Lausanne Connectome\n",
    "\n",
    "This connectome was computed with deterministic tractography from 70 young healthy adults and parcellated according to the Lausanne atlas ([Hagmann et al., 2008](https://journals.plos.org/plosbiology/article?id=10.1371/journal.pbio.0060159)). This dataset is publicly available and was retrieved from [Zenodo](https://zenodo.org/record/2872624#.YUiBXp4za3I) (Griffa et al., 2019)."
   ]
  },
  {
   "cell_type": "code",
   "execution_count": 19,
   "id": "eb1d41c1",
   "metadata": {},
   "outputs": [],
   "source": [
    "import os, sys\n",
    "import numpy as np\n",
    "import mne\n",
    "\n",
    "from scipy import io\n",
    "\n",
    "from netneurotools import freesurfer\n",
    "from netneurotools import datasets as nntdata\n",
    "from palettable.scientific.sequential import Davos_20\n",
    "\n",
    "cmap_strength = Davos_20.mpl_colormap\n",
    "\n",
    "sys.path.append('../../modules/')\n",
    "from visualization import *"
   ]
  },
  {
   "cell_type": "code",
   "execution_count": 20,
   "id": "c954f480",
   "metadata": {},
   "outputs": [],
   "source": [
    "data_path = '/Users/dk/Documents/Charite/PhD/travelingwaves_code/data/connectomes'\n",
    "regions_path = '/Users/dk/Documents/Charite/PhD/travelingwaves_code/data/connectomes/Griffa'\n",
    "figure_path = \"/Users/dk/Documents/Charite/PhD/travelingwaves_code/data/20_results\""
   ]
  },
  {
   "cell_type": "code",
   "execution_count": 21,
   "id": "85c497fb-8b90-4e51-b7fa-ac8dd440bcde",
   "metadata": {},
   "outputs": [],
   "source": [
    "# fetch fsaverage lausanne atlas 2008\n",
    "lausanne = nntdata.fetch_cammoun2012(version='fsaverage')\n",
    "\n",
    "# get region mapping and region labels\n",
    "region_mapping_lh, _, labels_lh  = freesurfer.read_annot(lausanne['scale500'][0])\n",
    "region_mapping_rh, _, labels_rh  = freesurfer.read_annot(lausanne['scale500'][1])\n",
    "\n",
    "# combine labels and remove non-cortical regions\n",
    "labels_lh = [l.decode('UTF-8') for l in labels_lh if l.decode('UTF-8') not in ['unknown', 'corpuscallosum']]\n",
    "labels_rh = [l.decode('UTF-8') for l in labels_rh if l.decode('UTF-8') not in ['unknown', 'corpuscallosum']]\n",
    "labels = np.concatenate([labels_lh, labels_rh])\n",
    "\n",
    "# get centroids for parcels\n",
    "verts, d = freesurfer.find_parcel_centroids(lhannot=lausanne['scale500'][0], rhannot=lausanne['scale500'][1], surf='inflated')\n",
    "\n",
    "# shift centroids for visualization\n",
    "verts_lh = verts[:len(labels_lh)]*1e-3\n",
    "verts_rh = verts[len(labels_lh):]*1e-3\n",
    "\n",
    "verts_lh[:,0] = verts_lh[:,0] - (verts_lh[:,0].max() - verts_lh[:,0].min()) - 0.004\n",
    "\n",
    "v = np.concatenate([verts_lh, verts_rh])\n",
    "\n",
    "number_of_regions = len(v)\n",
    "\n",
    "#np.save(data_path + '/Griffa' + '/positions.npy', v)"
   ]
  },
  {
   "cell_type": "code",
   "execution_count": 23,
   "id": "639a3c07",
   "metadata": {},
   "outputs": [],
   "source": [
    "# load data\n",
    "conn = io.loadmat(os.path.join(data_path,'Griffa/Individual_Connectomes_SC.mat'))\n",
    "weights = conn['SC'][-1][0]\n",
    "\n",
    "# remove self-connections\n",
    "weights_nsc = [weights[:,:,i] - np.eye(np.shape(weights[:,:,i])[0])*np.diag(weights[:,:,i]) for i in range(70)]\n",
    "\n",
    "# remove self-connections\n",
    "weights_nsc = [weights[:,:,i] - np.eye(np.shape(weights[:,:,i])[0])*np.diag(weights[:,:,i]) for i in range(70)]\n",
    "\n",
    "# mean across subjects\n",
    "avg_weights = np.mean(weights_nsc, axis=0)\n",
    "\n",
    "# make upper triangular matrices symmetric\n",
    "avg_weights = avg_weights + avg_weights.T - np.diag(np.diag(avg_weights))"
   ]
  },
  {
   "cell_type": "code",
   "execution_count": 25,
   "id": "b7d613ec",
   "metadata": {},
   "outputs": [],
   "source": [
    "# compute instrength\n",
    "instrength = np.sum(avg_weights, axis=0)\n",
    "\n",
    "clim = np.percentile(instrength, [5,95])\n",
    "\n",
    "#np.save(data_path + '/Griffa' + '/lausanne_instrength.npy', instrength)"
   ]
  },
  {
   "cell_type": "code",
   "execution_count": 30,
   "id": "d06cf2f7-a5d5-4947-a176-6a84d2edfd36",
   "metadata": {},
   "outputs": [
    {
     "name": "stderr",
     "output_type": "stream",
     "text": [
      "WARNING:root:pyvista.PolyData.fill_holes is known to segfault. Use at your own risk\n",
      "WARNING:root:pyvista.PolyData.fill_holes is known to segfault. Use at your own risk\n"
     ]
    },
    {
     "data": {
      "application/vnd.jupyter.widget-view+json": {
       "model_id": "5dc73a0eba834a56b5f9096060cdabda",
       "version_major": 2,
       "version_minor": 0
      },
      "text/plain": [
       "ViewInteractiveWidget(height=912, layout=Layout(height='auto', width='100%'), width=2256)"
      ]
     },
     "metadata": {},
     "output_type": "display_data"
    }
   ],
   "source": [
    "# Plot Instrength distribution\n",
    "# ----------------------------\n",
    "plot_brain_data(v_inflated, f_inflated, instrength, cmap=cmap_strength, clim=clim, data_points=v)"
   ]
  },
  {
   "cell_type": "markdown",
   "id": "43eecba5",
   "metadata": {},
   "source": [
    "# Schaefer Connectome - 400 Regions\n",
    "\n",
    "Here, we investigate an independent connectome obtained using the 400 regions Schaefer parcellation with the eNKI dataset. Furthermore, this connectome was constructed using the mean streamline count instead of the SIFT2 filtered weights.\n",
    "This dataset is publicly available at [EBRAINs](https://search.kg.ebrains.eu/instances/Dataset/50c215bc-4c65-4f11-a4cd-98cc92750977) (Popovych et al., 2020)."
   ]
  },
  {
   "cell_type": "code",
   "execution_count": 32,
   "id": "aa757edd",
   "metadata": {},
   "outputs": [],
   "source": [
    "import os\n",
    "import numpy as np\n",
    "import pandas as pd\n",
    "import mne"
   ]
  },
  {
   "cell_type": "code",
   "execution_count": 33,
   "id": "dabf2e7f",
   "metadata": {},
   "outputs": [],
   "source": [
    "data_path=\"/Users/dk/Documents/Charite/PhD/travelingwaves_code/data/connectomes\"\n",
    "regions_path = \"/Users/dk/Documents/Charite/PhD/travelingwaves_code/data/connectomes/Schaefer2018_HCP_S900/hcp_parcellation\"\n",
    "figure_path = \"/Users/dk/Documents/Charite/PhD/travelingwaves_code/data/20_results\""
   ]
  },
  {
   "cell_type": "code",
   "execution_count": 35,
   "id": "7f4e9177",
   "metadata": {},
   "outputs": [],
   "source": [
    "# load connectivity weights\n",
    "df = pd.read_csv(os.path.join(data_path, 'hbp-d000038_SC-FC_HCP_eNKI_pub/Schaefer2018_400Parcels_17Networks/', \n",
    "                              'Averaged_SC_Schaefer2018_400Parcels_17Networks_eNKI_10M_count_MEAN.tsv'), sep='\\t', header=None)\n",
    "weights = df.values\n",
    "\n",
    "# load tract lengths\n",
    "df = pd.read_csv(os.path.join(data_path, 'hbp-d000038_SC-FC_HCP_eNKI_pub/Schaefer2018_400Parcels_17Networks/',\n",
    "                              'Averaged_SC_Schaefer2018_400Parcels_17Networks_eNKI_10M_length_MEAN.tsv'), sep='\\t', header=None)\n",
    "lengths = df.values"
   ]
  },
  {
   "cell_type": "code",
   "execution_count": 36,
   "id": "bb5a389a",
   "metadata": {},
   "outputs": [],
   "source": [
    "# remove self-connections\n",
    "avg_weights = weights - np.eye(np.shape(weights)[0])*np.diag(weights)\n",
    "avg_lengths = lengths - np.eye(np.shape(lengths)[0])*np.diag(lengths)"
   ]
  },
  {
   "cell_type": "code",
   "execution_count": 39,
   "id": "44ee345a-fa7a-4a7b-9dca-bfc295ab6beb",
   "metadata": {},
   "outputs": [
    {
     "name": "stdout",
     "output_type": "stream",
     "text": [
      "Reading labels from parcellation...\n",
      "   read 201 labels from /Users/dk/Documents/Charite/PhD/travelingwaves_code/data/connectomes/Schaefer2018_HCP_S900/hcp_parcellation/fsaverage5/label/lh.Schaefer2018_400Parcels_17Networks_order.annot\n",
      "Reading labels from parcellation...\n",
      "   read 201 labels from /Users/dk/Documents/Charite/PhD/travelingwaves_code/data/connectomes/Schaefer2018_HCP_S900/hcp_parcellation/fsaverage5/label/rh.Schaefer2018_400Parcels_17Networks_order.annot\n"
     ]
    }
   ],
   "source": [
    "# load freesurfer fsaverage surface\n",
    "regions_lh = mne.read_labels_from_annot('fsaverage5', 'Schaefer2018_400Parcels_17Networks_order', 'lh', surf_name='inflated', subjects_dir=regions_path, sort=False)\n",
    "regions_rh = mne.read_labels_from_annot('fsaverage5', 'Schaefer2018_400Parcels_17Networks_order', 'rh', surf_name='inflated', subjects_dir=regions_path, sort=False)\n",
    "\n",
    "regions_full = np.concatenate([regions_lh[1:], regions_rh[1:]])  # concatenate left and reight hemi + remove background+freesurfer medial wall\n",
    "\n",
    "# get region positions\n",
    "rr_lh, _ = mne.read_surface(os.path.join(regions_path, 'fsaverage5/surf/lh.inflated'))\n",
    "rr_rh, _ = mne.read_surface(os.path.join(regions_path, 'fsaverage5/surf/rh.inflated'))\n",
    "\n",
    "rr_lh *= 1e-3\n",
    "rr_rh *= 1e-3\n",
    "\n",
    "# combine left and right hemispheres\n",
    "rr_lh[:,0] = rr_lh[:,0] - (rr_lh[:,0].max() - rr_lh[:,0].min())\n",
    "\n",
    "v_lh = np.array([np.mean(rr_lh[r_lh.vertices,:], axis=0) for r_lh in regions_lh[1:]])  # regions begin at index 1\n",
    "v_rh = np.array([np.mean(rr_rh[r_rh.vertices,:], axis=0) for r_rh in regions_rh[1:]])  # regions begin at index 1\n",
    "v = np.concatenate([v_lh, v_rh])\n",
    "\n",
    "number_of_regions = len(v)\n",
    "\n",
    "#np.save(data_path + '/hbp-d000038_SC-FC_HCP_eNKI_pub/' + 'positions.npy', v)"
   ]
  },
  {
   "cell_type": "code",
   "execution_count": 40,
   "id": "41206925-730e-42cd-92f2-d1ba85863f49",
   "metadata": {},
   "outputs": [],
   "source": [
    "# compute instrength\n",
    "instrength = np.sum(avg_weights, axis=0)\n",
    "\n",
    "clim = np.percentile(instrength, [5,95])\n",
    "\n",
    "#np.save(data_path + '/hbp-d000038_SC-FC_HCP_eNKI_pub/' + 'schaefer400_instrength.npy', instrength)"
   ]
  },
  {
   "cell_type": "code",
   "execution_count": 41,
   "id": "32885a1a-529b-4355-801d-440d9cf067a9",
   "metadata": {},
   "outputs": [
    {
     "name": "stderr",
     "output_type": "stream",
     "text": [
      "WARNING:root:pyvista.PolyData.fill_holes is known to segfault. Use at your own risk\n",
      "WARNING:root:pyvista.PolyData.fill_holes is known to segfault. Use at your own risk\n"
     ]
    },
    {
     "data": {
      "application/vnd.jupyter.widget-view+json": {
       "model_id": "661c8d3953af467d81fb520b6e994aec",
       "version_major": 2,
       "version_minor": 0
      },
      "text/plain": [
       "ViewInteractiveWidget(height=912, layout=Layout(height='auto', width='100%'), width=2256)"
      ]
     },
     "metadata": {},
     "output_type": "display_data"
    }
   ],
   "source": [
    "# Plot Instrength distribution\n",
    "# ----------------------------\n",
    "plot_brain_data(v_inflated, f_inflated, instrength, cmap=cmap_strength, clim=clim, data_points=v, glyph_scaling=0.015)"
   ]
  }
 ],
 "metadata": {
  "kernelspec": {
   "display_name": "Python 3 (ipykernel)",
   "language": "python",
   "name": "python3"
  },
  "language_info": {
   "codemirror_mode": {
    "name": "ipython",
    "version": 3
   },
   "file_extension": ".py",
   "mimetype": "text/x-python",
   "name": "python",
   "nbconvert_exporter": "python",
   "pygments_lexer": "ipython3",
   "version": "3.8.12"
  }
 },
 "nbformat": 4,
 "nbformat_minor": 5
}
